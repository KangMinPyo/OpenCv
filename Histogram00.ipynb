{
  "nbformat": 4,
  "nbformat_minor": 0,
  "metadata": {
    "colab": {
      "name": "Histogram00.ipynb",
      "private_outputs": true,
      "provenance": [],
      "authorship_tag": "ABX9TyOCiViBMyyTtlJ0ZG0mak5u",
      "include_colab_link": true
    },
    "kernelspec": {
      "name": "python3",
      "display_name": "Python 3"
    },
    "language_info": {
      "name": "python"
    }
  },
  "cells": [
    {
      "cell_type": "markdown",
      "metadata": {
        "id": "view-in-github",
        "colab_type": "text"
      },
      "source": [
        "<a href=\"https://colab.research.google.com/github/KangMinPyo/OpenCv/blob/main/Histogram00.ipynb\" target=\"_parent\"><img src=\"https://colab.research.google.com/assets/colab-badge.svg\" alt=\"Open In Colab\"/></a>"
      ]
    },
    {
      "cell_type": "code",
      "execution_count": null,
      "metadata": {
        "id": "C0BFDgj2WAUf"
      },
      "outputs": [],
      "source": [
        "import cv2\n",
        "from google.colab.patches import cv2_imshow\n",
        "import numpy as np\n",
        "import urllib.request\n",
        "\n",
        "def url_to_image(url):\n",
        "  resp = urllib.request.urlopen(url)\n",
        "  image = np.asarray(bytearray(resp.read()), dtype='uint8')\n",
        "  image = cv2.imdecode(image, cv2.IMREAD_COLOR)\n",
        "\n",
        "  return image\n",
        "\n",
        "image = url_to_image('https://t1.daumcdn.net/cfile/tistory/995319485ABDAA512A')\n",
        "gray = cv2.cvtColor(image, cv2.COLOR_BGR2GRAY)\n",
        "\n",
        "result = np.zeros((image.shape[0],256), dtype=np.uint8)\n",
        "hist = cv2.calcHist([image], [0], None, [256], [0,256])\n",
        "cv2.normalize(hist, hist, 0, 255, cv2.NORM_MINMAX)\n",
        "\n",
        "for x,y in enumerate(hist):\n",
        "    cv2.line(result, (int(x), image.shape[0]), (int(x), image.shape[0] - int(y)), 255)\n",
        "\n",
        "dst = np.hstack([image[:,:,0], result])\n",
        "cv2_imshow(dst)\n",
        "\n",
        "\n"
      ]
    }
  ]
}
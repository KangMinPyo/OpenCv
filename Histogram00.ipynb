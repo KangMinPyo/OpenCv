import Cv
import numpy as np
